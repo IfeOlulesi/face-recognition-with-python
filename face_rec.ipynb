{
 "cells": [
  {
   "attachments": {},
   "cell_type": "markdown",
   "id": "a8f070d9",
   "metadata": {},
   "source": [
    "## Face Recognition with Python & DeepFace Resource\n"
   ]
  },
  {
   "cell_type": "markdown",
   "id": "6d4a3022",
   "metadata": {},
   "source": [
    "Import 3rd party libraries"
   ]
  },
  {
   "cell_type": "code",
   "execution_count": 2,
   "id": "2e78dc34-3fdc-4de4-9c10-5f9922df129d",
   "metadata": {},
   "outputs": [],
   "source": [
    "from deepface import DeepFace\n",
    "import cv2"
   ]
  },
  {
   "attachments": {},
   "cell_type": "markdown",
   "id": "0a496a97",
   "metadata": {},
   "source": [
    "Declare the file path and perform the face detection using DeepFace library\n"
   ]
  },
  {
   "cell_type": "code",
   "execution_count": 45,
   "id": "697ed185-b442-4b9c-a1db-583d071a3776",
   "metadata": {},
   "outputs": [
    {
     "name": "stdout",
     "output_type": "stream",
     "text": [
      "[{'face': array([[[0.48235294, 0.48235294, 0.48235294],\n",
      "        [0.5019608 , 0.5019608 , 0.5019608 ],\n",
      "        [0.41960785, 0.41960785, 0.41960785],\n",
      "        ...,\n",
      "        [0.23137255, 0.23137255, 0.23137255],\n",
      "        [0.28627452, 0.28627452, 0.28627452],\n",
      "        [0.3254902 , 0.3254902 , 0.3254902 ]],\n",
      "\n",
      "       [[0.40392157, 0.40392157, 0.40392157],\n",
      "        [0.40392157, 0.40392157, 0.40392157],\n",
      "        [0.43137255, 0.43137255, 0.43137255],\n",
      "        ...,\n",
      "        [0.4627451 , 0.4627451 , 0.4627451 ],\n",
      "        [0.4745098 , 0.4745098 , 0.4745098 ],\n",
      "        [0.40784314, 0.40784314, 0.40784314]],\n",
      "\n",
      "       [[0.4117647 , 0.4117647 , 0.4117647 ],\n",
      "        [0.56078434, 0.56078434, 0.56078434],\n",
      "        [0.44705883, 0.44705883, 0.44705883],\n",
      "        ...,\n",
      "        [0.42352942, 0.42352942, 0.42352942],\n",
      "        [0.43529412, 0.43529412, 0.43529412],\n",
      "        [0.3764706 , 0.3764706 , 0.3764706 ]],\n",
      "\n",
      "       ...,\n",
      "\n",
      "       [[0.        , 0.        , 0.        ],\n",
      "        [0.        , 0.        , 0.        ],\n",
      "        [0.        , 0.        , 0.        ],\n",
      "        ...,\n",
      "        [0.09803922, 0.09803922, 0.09803922],\n",
      "        [0.09803922, 0.09803922, 0.09803922],\n",
      "        [0.09411765, 0.09411765, 0.09411765]],\n",
      "\n",
      "       [[0.        , 0.        , 0.        ],\n",
      "        [0.        , 0.        , 0.        ],\n",
      "        [0.        , 0.        , 0.        ],\n",
      "        ...,\n",
      "        [0.10196079, 0.10196079, 0.10196079],\n",
      "        [0.10196079, 0.10196079, 0.10196079],\n",
      "        [0.08235294, 0.08235294, 0.08235294]],\n",
      "\n",
      "       [[0.        , 0.        , 0.        ],\n",
      "        [0.        , 0.        , 0.        ],\n",
      "        [0.        , 0.        , 0.        ],\n",
      "        ...,\n",
      "        [0.10588235, 0.10588235, 0.10588235],\n",
      "        [0.08627451, 0.08627451, 0.08627451],\n",
      "        [0.09411765, 0.09411765, 0.09411765]]], dtype=float32), 'facial_area': {'x': 2386, 'y': 928, 'w': 1414, 'h': 1414}, 'confidence': 7.59004710795125}]\n"
     ]
    }
   ],
   "source": [
    "test_img_path = \"images/samples/pexels-stefan-stefancik-91227.jpg\"\n",
    "detected_face = DeepFace.extract_faces(img_path=test_img_path, target_size=(500, 500))\n",
    "\n",
    "print(detected_face)"
   ]
  },
  {
   "cell_type": "code",
   "execution_count": 54,
   "id": "96b18cbd",
   "metadata": {},
   "outputs": [
    {
     "name": "stdout",
     "output_type": "stream",
     "text": [
      "<class 'numpy.ndarray'>\n"
     ]
    }
   ],
   "source": [
    "# cv_img = cv2.imread('asd.jpg')\n",
    "cv2.imwrite('asnd.jpg', detected_face[0]['face'])\n",
    "print(type(detected_face[0]['face']))"
   ]
  },
  {
   "attachments": {},
   "cell_type": "markdown",
   "id": "30c10c2e",
   "metadata": {},
   "source": [
    "Extract needed co-ordinates of the face as given from the detection phase\n"
   ]
  },
  {
   "cell_type": "code",
   "execution_count": 48,
   "id": "2fa5ae13-a0b0-4773-8b56-99663d90c236",
   "metadata": {},
   "outputs": [
    {
     "name": "stdout",
     "output_type": "stream",
     "text": [
      "{'x': 2386, 'y': 928, 'w': 1414, 'h': 1414}\n"
     ]
    }
   ],
   "source": [
    "face_data = detected_face[0][\"facial_area\"]\n",
    "print(face_data)"
   ]
  },
  {
   "attachments": {},
   "cell_type": "markdown",
   "id": "2a6752bd",
   "metadata": {},
   "source": [
    "Extract the width and height of the image and store in a variable\n"
   ]
  },
  {
   "cell_type": "code",
   "execution_count": 35,
   "id": "ef1a515d-1535-4c0b-9e0a-d96d7d3f2973",
   "metadata": {},
   "outputs": [
    {
     "name": "stdout",
     "output_type": "stream",
     "text": [
      "Image height: 3600\n",
      "Image width: 6200 \n",
      "\n"
     ]
    }
   ],
   "source": [
    "cv_img = cv2.imread(test_img_path)\n",
    "img_height, img_width, _ = cv_img.shape\n",
    "\n",
    "print(f\"Image height: {img_height}\")\n",
    "print(f\"Image width: {img_width} \\n\")"
   ]
  },
  {
   "attachments": {},
   "cell_type": "markdown",
   "id": "fc8dbf88",
   "metadata": {},
   "source": [
    "**Image Manipulation**\n",
    "\n",
    "1. Declare needed variables\n",
    "2. Draw a rectangle around the face to be cropped\n",
    "3. Crop the image out\n"
   ]
  },
  {
   "cell_type": "code",
   "execution_count": 41,
   "id": "efad5e1d",
   "metadata": {},
   "outputs": [],
   "source": [
    "# Declare variables for cropping operation\n",
    "x, y, w, h = face_data.values()  # {'x': 73, 'y': 93, 'w': 254, 'h': 254}\n",
    "\n",
    "start_point = (x, y)  # starting co-ordinates\n",
    "end_point = (x + w, y + h)  # ending co-ordinates\n",
    "\n",
    "green = (0, 255, 0) ## Colors in BGR\n",
    "thickness = 7  # Line thickness of 2 px\n",
    "x_padding, y_padding = 10, 15  # padding in pixels\n",
    "\n",
    "# Apply padding\n",
    "y_start = y - y_padding \n",
    "y_end = y + h + y_padding\n",
    "\n",
    "x_start = x - x_padding\n",
    "x_end = x + w + x_padding\n",
    "\n",
    "\n",
    "# draw rectangle around area to be cropped\n",
    "rec_image = cv2.rectangle(cv_img, start_point, end_point, green, thickness)\n",
    "\n",
    "\n",
    "# perform cropping operation on the input image\n",
    "crop = cv_img[y_start:y_end, x_start:x_end]\n",
    "\n",
    "\n"
   ]
  },
  {
   "attachments": {},
   "cell_type": "markdown",
   "id": "2a6efa3c",
   "metadata": {},
   "source": [
    "Dynamically extract the name of the image from the file path, and save the cropped image to the file system.\n",
    "\n",
    "I mean, why hard code it when you can automate it? 😉\n"
   ]
  },
  {
   "cell_type": "code",
   "execution_count": 42,
   "id": "07d3151f",
   "metadata": {},
   "outputs": [
    {
     "name": "stdout",
     "output_type": "stream",
     "text": [
      "pexels-stefan-stefancik-91227 jpg\n"
     ]
    },
    {
     "data": {
      "text/plain": [
       "True"
      ]
     },
     "execution_count": 42,
     "metadata": {},
     "output_type": "execute_result"
    }
   ],
   "source": [
    "image_path_split = test_img_path.split(\".\")\n",
    "image_path_split[0] = image_path_split[0].split(\"/\")\n",
    "\n",
    "image_name = image_path_split[0][2]\n",
    "file_extension = image_path_split[1]\n",
    "\n",
    "print(image_name, file_extension)\n",
    "\n",
    "# Create image with green rectangle aroung face in the original image\n",
    "cv2.imwrite(f\"images/extracted_faces/{image_name}.{file_extension}\", rec_image)\n",
    "\n",
    "# Create image consisting of recognized face\n",
    "cv2.imwrite(f\"images/passport_faces/{image_name}.{file_extension}\", crop)"
   ]
  }
 ],
 "metadata": {
  "kernelspec": {
   "display_name": "Python 3 (ipykernel)",
   "language": "python",
   "name": "python3"
  },
  "language_info": {
   "codemirror_mode": {
    "name": "ipython",
    "version": 3
   },
   "file_extension": ".py",
   "mimetype": "text/x-python",
   "name": "python",
   "nbconvert_exporter": "python",
   "pygments_lexer": "ipython3",
   "version": "3.10.1"
  }
 },
 "nbformat": 4,
 "nbformat_minor": 5
}
