{
 "cells": [
  {
   "attachments": {},
   "cell_type": "markdown",
   "id": "a8f070d9",
   "metadata": {},
   "source": [
    "## Import the necessary libraries"
   ]
  },
  {
   "cell_type": "code",
   "execution_count": null,
   "id": "2e78dc34-3fdc-4de4-9c10-5f9922df129d",
   "metadata": {},
   "outputs": [],
   "source": [
    "from deepface import DeepFace\n",
    "import cv2"
   ]
  },
  {
   "attachments": {},
   "cell_type": "markdown",
   "id": "0a496a97",
   "metadata": {},
   "source": [
    "## Declare the file path and perform the face detection using DeepFace library"
   ]
  },
  {
   "cell_type": "code",
   "execution_count": null,
   "id": "697ed185-b442-4b9c-a1db-583d071a3776",
   "metadata": {},
   "outputs": [],
   "source": [
    "test_img_path = 'images/samples/pexels-stefan-stefancik-91227.jpg'\n",
    "detected_face = DeepFace.extract_faces(img_path= test_img_path, target_size=(500,500))"
   ]
  },
  {
   "attachments": {},
   "cell_type": "markdown",
   "id": "30c10c2e",
   "metadata": {},
   "source": [
    "## Interprete the results\n",
    "\n",
    "Here, we pick out co-ordinates of the face as given from the detection phase"
   ]
  },
  {
   "cell_type": "code",
   "execution_count": null,
   "id": "2fa5ae13-a0b0-4773-8b56-99663d90c236",
   "metadata": {},
   "outputs": [],
   "source": [
    "face_data = detected_face[0]['facial_area']\n",
    "print(face_data)"
   ]
  },
  {
   "attachments": {},
   "cell_type": "markdown",
   "id": "2a6752bd",
   "metadata": {},
   "source": [
    "## Determine the width and height of the image"
   ]
  },
  {
   "cell_type": "code",
   "execution_count": null,
   "id": "ef1a515d-1535-4c0b-9e0a-d96d7d3f2973",
   "metadata": {},
   "outputs": [],
   "source": [
    "cv_img = cv2.imread(test_img_path)\n",
    "img_height, img_width, _ = cv_img.shape\n",
    "\n",
    "print(f\"Image height: {img_height}\")\n",
    "print(f\"Image width: {img_width} \\n\")\n"
   ]
  },
  {
   "attachments": {},
   "cell_type": "markdown",
   "id": "fc8dbf88",
   "metadata": {},
   "source": [
    "## Image Manipulation\n",
    "\n",
    "1. Here we declare a couple of variables we'll be needing\n",
    "2. Then, we draw a rectangle around the area to be cropped (for development purposes)\n",
    "3. Finally, we crop the image out"
   ]
  },
  {
   "cell_type": "code",
   "execution_count": null,
   "id": "efad5e1d",
   "metadata": {},
   "outputs": [],
   "source": [
    "# Declare variables for cropping operation\n",
    "x, y, w, h = face_data.values() # {'x': 73, 'y': 93, 'w': 254, 'h': 254}\n",
    "\n",
    "start_point = (x, y) # starting co-ordinates\n",
    "end_point = (x+w, y+h) # ending co-ordinates\n",
    "\n",
    "## Colors in BGR\n",
    "blue = (255, 0, 0)\n",
    "green = (0, 255, 0)\n",
    "thickness = 2 # Line thickness of 2 px\n",
    "x_padding, y_padding = 10, 15  # padding in percentage\n",
    "\n",
    "y_start = y - y_padding\n",
    "y_end = y + h + y_padding\n",
    "\n",
    "x_start = x - x_padding\n",
    "x_end = x + w + x_padding\n",
    "\n",
    "# draw rectangle around area to be cropped - for development purposes\n",
    "rec_image = cv2.rectangle(cv_img, start_point, end_point, green, thickness)\n",
    "\n",
    "# perform cropping operation on the input image\n",
    "crop = cv_img[ y_start: y_end , x_start: x_end ]  "
   ]
  },
  {
   "attachments": {},
   "cell_type": "markdown",
   "id": "2a6efa3c",
   "metadata": {},
   "source": [
    "Now, we dynamically extract the name of the image from the file path, and save the cropped image to the file system."
   ]
  },
  {
   "cell_type": "code",
   "execution_count": null,
   "id": "07d3151f",
   "metadata": {},
   "outputs": [],
   "source": [
    "image_path_split = test_img_path.split('.')\n",
    "image_path_split[0] = image_path_split[0].split('/')\n",
    "image_name = image_path_split[0][2]\n",
    "\n",
    "cv2.imwrite(f\"images/extracted_faces/{image_name}.jpg\", rec_image)"
   ]
  }
 ],
 "metadata": {
  "kernelspec": {
   "display_name": "Python 3 (ipykernel)",
   "language": "python",
   "name": "python3"
  },
  "language_info": {
   "codemirror_mode": {
    "name": "ipython",
    "version": 3
   },
   "file_extension": ".py",
   "mimetype": "text/x-python",
   "name": "python",
   "nbconvert_exporter": "python",
   "pygments_lexer": "ipython3",
   "version": "3.10.1"
  }
 },
 "nbformat": 4,
 "nbformat_minor": 5
}
